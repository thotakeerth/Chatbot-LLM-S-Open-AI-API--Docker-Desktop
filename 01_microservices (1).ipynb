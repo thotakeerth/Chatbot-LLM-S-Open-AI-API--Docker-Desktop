{
  "cells": [
    {
      "cell_type": "markdown",
      "id": "REpUhcdU-Qo0",
      "metadata": {
        "id": "REpUhcdU-Qo0"
      },
      "source": [
        "<br>\n",
        "\n",
        "# <font color=\"#76b900\">**Notebook 1:** The Course Environment</font>\n",
        "\n",
        "<br>\n",
        "\n",
        "In this module, we'll take some time to introduce the course environment, learning about some of the setup requirements, workflows, and considerations.\n",
        "\n",
        "**NOTE:** This notebook, though accessible through **Google Colab**, strongly relies on the ***DLI Course Environment*** to run all of the cells properly. However, since there are no todos in this section and it is mainly intended as a vehicle for understanding what's going on behind the scenes, the experience of just reading through this notebook will not compromise much of the experience. For this reason, we have left the cell outputs from our run included by default.\n",
        "\n",
        "**Recommendation:** It is a good idea to pull up and familiarize yourself with the course environment for a bit, but this is optional. Feel free to wait until later. **When you're not using the environment, we'd recommend shutting down your session!**\n",
        "\n",
        "<br>\n",
        "\n",
        "### **Learning Objectives:**\n",
        "\n",
        "- Learn about the course environment through the lens of how it was created and why it was organized this way.\n",
        "- Understand how to use the Jupyter Labs interface to interact with the surrounding microservices using active network ports.\n",
        "\n",
        "<br>\n",
        "\n",
        "### **Questions To Think About:**\n",
        "\n",
        "1. What kinds of resources do you expect an environment for this course to have, and how would it be different from your local compute environment?\n",
        "2. How different would things be if one of your microservices were running on another host environment (publicly-accessible or gated)?\n",
        "    - **Same Idea, Different Question**: How hard would it be to mimic the functionality of a local microservice despite being served by a remote host, and are there any inherent drawbacks of doing this?\n",
        "3. What kinds of microservices do you actually need to spin up on a per-user basis, and what kinds are better left to run persistently?\n",
        "\n",
        "<br>\n",
        "\n",
        "### **Notebook Source:**\n",
        "\n",
        "- This notebook is part of a larger [**NVIDIA Deep Learning Institute**](https://www.nvidia.com/en-us/training/) course titled [**Building RAG Agents with LLMs**](https://www.nvidia.com/en-sg/training/instructor-led-workshops/building-rag-agents-with-llms/). If sharing this material, please give credit and link back to the original course.\n",
        "\n",
        "<br>\n"
      ]
    },
    {
      "cell_type": "markdown",
      "id": "60bac59f-c4ec-450e-a267-766bc09d02ae",
      "metadata": {
        "id": "60bac59f-c4ec-450e-a267-766bc09d02ae"
      },
      "source": [
        "<br>\n",
        "\n",
        "## **Welcome To Your Cloud Environment**\n",
        "\n",
        "This is a Jupyter Labs environment that you can use to work on the course content. In most courses, this environment will be a given interface with all the necessary components already running in the background. To help motivate further exploration, this course will also use it as a gateway to understanding microservices orchestration - especially for applications centered around **Large Language Models (LLMs)**. Let's start by exploring the key components of your cloud session.\n"
      ]
    },
    {
      "cell_type": "markdown",
      "id": "k7E6HHSHpFiZ",
      "metadata": {
        "id": "k7E6HHSHpFiZ"
      },
      "source": [
        "<!-- <img src=\"https://drive.google.com/uc?export=view&id=11MGA5fkwA1XQAglQYQbOgjGTImO3TkLS\" width=800/> -->\n",
        "<!-- <img src=\"imgs/simple-env.png\" width=800/> -->\n",
        "> <img src=\"https://dli-lms.s3.amazonaws.com/assets/s-fx-15-v1/imgs/simple-env.png\" width=800px/>"
      ]
    },
    {
      "cell_type": "markdown",
      "id": "cc03e1bf-64cb-436e-9db1-4be537dab390",
      "metadata": {
        "id": "cc03e1bf-64cb-436e-9db1-4be537dab390"
      },
      "source": [
        "----\n",
        "\n",
        "<br>\n",
        "\n",
        "## **Part 1:** Hosting Containers\n",
        "\n",
        "When you access this Jupyter Notebook, an instance on a cloud platform like AWS or Azure is allocated to you by NVIDIA DLI (Deep Learning Institute). This cloud instance forms your base cloud environment and includes:\n",
        "\n",
        "- A dedicated CPU, and possibly a GPU, for processing.\n",
        "- A pre-installed base operating system.\n",
        "- Some exposed ports which can be accessed via a known web address.\n",
        "\n",
        "Though this gives you all the necessary resources to get started, it is essentially just a blank canvas by default. If we wanted, we could run some baked routines to download a few resources and expose the environment with full access. However, this may not be a great idea when other processes need to run in the background. Perhaps we'd want to spin up a database service, load in some large documents, or maybe set up a proxy service for a safe connection.\n"
      ]
    },
    {
      "cell_type": "markdown",
      "id": "dbc4ba1d-f20b-47f2-b37d-ce5247a25c3e",
      "metadata": {
        "id": "dbc4ba1d-f20b-47f2-b37d-ce5247a25c3e"
      },
      "source": [
        "To transform our basic setup into a functional development space with a diverse range of processes, we've deployed a series of microservices in the background that a user or system could rely on. [**Microservices**](https://en.wikipedia.org/wiki/Microservices) are autonomous services performing specific functions and communicating through lightweight connection protocols. In your environment, this includes the Jupyter Labs server along with several other services that could be useful to investigate and experiment with.\n",
        "\n",
        "<br>"
      ]
    },
    {
      "cell_type": "markdown",
      "id": "kq_sYaj68I8a",
      "metadata": {
        "id": "kq_sYaj68I8a"
      },
      "source": [
        "<!-- <img src=\"https://drive.google.com/uc?export=view&id=1r0BH_zROmGosrsUt_hhAY4azXc4wtjea\" width=800/> -->\n",
        "<!-- <img src=\"imgs/docker-ms.png\" width=1000/> -->\n",
        "> <img src=\"https://dli-lms.s3.amazonaws.com/assets/s-fx-15-v1/imgs/docker-ms.png\" width=1000px/>"
      ]
    },
    {
      "cell_type": "markdown",
      "id": "aBsNWKXH8Ns0",
      "metadata": {
        "id": "aBsNWKXH8Ns0"
      },
      "source": [
        "Utilizing [**Docker**](https://www.docker.com/) for microservice orchestration, our setup makes it relatively simple to add new microservices that adhere to principles like **containerization** and **uniformity**:\n",
        "\n",
        "- **Containerization:** This process encapsulates each service in a standalone container, comprising the necessary software components — code, runtime, libraries, and system tools. These containers interact with host resources and other services through network ports. Key advantages include:\n",
        "    - **Portability:** Facilitating easy transfer and deployment across diverse environments.\n",
        "    - **Isolation:** Ensuring independent operation of each container, minimizing service conflicts.\n",
        "    - **Scalability:** Simplifying the process of scaling services to meet varying demands or changing the *deployment topology* (which services are running on which resources, where they are located, and who is accessing them).\n",
        "\n",
        "- **Uniformity:** Aiming for consistent operation across different environments, Docker ensures that each microservice performs reliably. However, some constraints are noteworthy:\n",
        "    - **Hardware Sensitivity:** Performance may vary in environments with differing hardware, underscoring the need for adaptable microservice design.\n",
        "    - **Environmental Factors:** Variables like network latency or storage capacity can impact container efficiency.\n",
        "\n",
        "For a more comprehensive overview of Docker and containerization for microservice orcherstation, we'd recommend visiting [Docker's official documentation](https://docs.docker.com/) when you have the time. Understanding these principles will be quite useful for those interested in moving their ambitions towards practical deployment."
      ]
    },
    {
      "cell_type": "markdown",
      "id": "cfd88242-fe97-4bb7-b322-a3a4308a37b4",
      "metadata": {
        "id": "cfd88242-fe97-4bb7-b322-a3a4308a37b4"
      },
      "source": [
        "----\n",
        "\n",
        "<br>\n",
        "\n",
        "## **Part 2:** The Jupyter Labs Microservice\n",
        "\n",
        "Now that we've discussed general microservices, we can focus in on the one you've been interacting with all along: the **Jupyter Labs microservice**. This interactive web application allows you to write and run Python code (among many other things) using the software installed on the remote host! This should already be very familiar to you from web-based services like [Google Colab](https://colab.research.google.com/?utm_source=scs-index), but you may have never had to think about *why* this environment is there and how it's working behind the scenes. However, since we're talking about microservice orchestration for LLM applications, today is a good day to check it out!"
      ]
    },
    {
      "cell_type": "markdown",
      "id": "37b6b6b3-d43b-4b1e-ba99-4582984fc378",
      "metadata": {
        "id": "37b6b6b3-d43b-4b1e-ba99-4582984fc378"
      },
      "source": [
        "**Question:** Why is the Jupyter Notebook in our course environment?\n",
        "\n",
        "**Answer:** Inside some docker-compose file [like the one in `composer`](composer/docker-compose.yaml), a container with the name `jupyter-notebook-server` was launched with the following profile:\n",
        "\n",
        "```yaml\n",
        "  lab:\n",
        "    container_name: jupyter-notebook-server\n",
        "    build:\n",
        "      context: ..\n",
        "      dockerfile: composer/Dockerfile\n",
        "    ports: # Maps a port on the host to a port in the container.\n",
        "    - \"9010:9010\"\n",
        "    - \"9011:9011\"\n",
        "    - \"9012:9012\"\n",
        "```\n",
        "\n",
        "In a simple sentence, this component creates a service with the container name `jupyter-notebook-server` which gets constructed by running the routine in [`composer/Dockerfile`](composer/Dockerfile) from the image specified at the top of that file (which you may notice is a slim image with `python` pre-installed).\n",
        "\n",
        "After this construction is over and the launch doesn't error out, a user can access the running Jupyter labs session and interact with the provided interface!"
      ]
    },
    {
      "cell_type": "markdown",
      "id": "f9eaced1-aae7-4681-a84b-79e045158d10",
      "metadata": {
        "id": "f9eaced1-aae7-4681-a84b-79e045158d10"
      },
      "source": [
        "----\n",
        "\n",
        "<br>\n",
        "\n",
        "## **Part 3:** Interacting With Microservices As The Host"
      ]
    },
    {
      "cell_type": "markdown",
      "id": "89757b19-470e-402e-9a93-860c7824e4ae",
      "metadata": {
        "id": "89757b19-470e-402e-9a93-860c7824e4ae"
      },
      "source": [
        "We've established that this Jupyter-presenting microservice exists and we're interacting with it right now. So... what else is there? We referenced [`composer/docker-compose.yaml`](composer/docker-compose.yaml) earlier, and can investigate it to see what other components were created as part of our spin-up routine. This happens because a version of this file is ran from the host environment (outside of the microservices) using a command like this:"
      ]
    },
    {
      "cell_type": "markdown",
      "id": "5a4f801e-6633-4b31-bbdc-3dd234f8b78a",
      "metadata": {
        "id": "5a4f801e-6633-4b31-bbdc-3dd234f8b78a"
      },
      "source": [
        "```sh\n",
        "> docker compose up -d\n",
        "## Building may also happen here if that hasn't happened yet\n",
        "\n",
        "Starting docker_router                 ... done\n",
        "Starting llm_client                    ... done\n",
        "Starting s-fx-15-v1-task4_assessment_1 ... done\n",
        "Recreating jupyter-notebook-server     ... done\n",
        "Recreating frontend                    ... done\n",
        "Recreating s-fx-15-v1-task4_nginx_1    ... done\n",
        "Recreating modifier                    ... done\n",
        ">\n",
        "```"
      ]
    },
    {
      "cell_type": "markdown",
      "id": "10fd92be-0157-4137-8849-acd054e0ddcd",
      "metadata": {
        "id": "10fd92be-0157-4137-8849-acd054e0ddcd"
      },
      "source": [
        "### **Interacting From *Outside* Our Jupyter Labs Microservice**\n",
        "\n",
        "After our microservices have been started, we can try to check the status of the other microservices from the host environment via a simple command: `docker ps -a` (or a less verbose version):"
      ]
    },
    {
      "cell_type": "code",
      "execution_count": null,
      "id": "a5d65201-4fcb-418f-bf6f-1dcfd7968a7b",
      "metadata": {
        "id": "a5d65201-4fcb-418f-bf6f-1dcfd7968a7b"
      },
      "outputs": [],
      "source": [
        "'''\n",
        "> docker ps -a\n",
        "CONTAINER ID   IMAGE                            COMMAND                  CREATED          STATUS                   PORTS                                                                     NAMES\n",
        "7eff861362dc   s-fx-15-v1-task4_lab             \"jupyter lab --ip 0.…\"   14 minutes ago   Up 14 minutes            8888/tcp, 0.0.0.0:9010-9012->9010-9012/tcp, :::9010-9012->9010-9012/tcp   jupyter-notebook-server...\n",
        "(too much info)\n",
        "\n",
        "\n",
        ">  docker ps --format \"table {{.Names}}\\t{{.Image}}\\t{{.Ports}}\"\n",
        "NAMES                           IMAGE                            PORTS\n",
        "s-fx-15-v1-task4_nginx_1        nginx:1.15.12-alpine             0.0.0.0:80->80/tcp, :::80->80/tcp\n",
        "frontend                        s-fx-15-v1-task4_frontend        0.0.0.0:8090->8090/tcp, :::8090->8090/tcp\n",
        "jupyter-notebook-server         s-fx-15-v1-task4_lab             8888/tcp, 0.0.0.0:9010-9012->9010-9012/tcp, :::9010-9012->9010-9012/tcp\n",
        "llm_client                      s-fx-15-v1-task4_llm_client      0.0.0.0:9000->9000/tcp, :::9000->9000/tcp\n",
        "docker_router                   s-fx-15-v1-task4_docker_router   0.0.0.0:8070->8070/tcp, :::8070->8070/tcp\n",
        "s-fx-15-v1-task4_assessment_1   s-fx-15-v1-task4_assessment      0.0.0.0:81->8080/tcp, :::81->8080/tcp\n",
        "''';"
      ]
    },
    {
      "cell_type": "markdown",
      "id": "8e9b1cb5-7f2c-4c45-ac94-1c429e44e502",
      "metadata": {
        "id": "8e9b1cb5-7f2c-4c45-ac94-1c429e44e502"
      },
      "source": [
        "This shows us our list of running containers and gives us a decent starting point to interface with our microservices from outside our containers. Some of the things we could do from this context include:\n",
        "\n",
        "- Moving files to and from containers via routines like `scp` (secure copy protocol) or `docker cp`.\n",
        "    - `docker cp jupyter-notebook-server:/dli/task/paint-cat.jpg .`\n",
        "- Executing commands in a running container.\n",
        "    - `docker exec -it jupyter-notebook-server /bin/bash -c \"ls\"`\n",
        "- Querying for the logs of a container to see its status and execution processes.\n",
        "    - `docker logs jupyter-notebook-server`"
      ]
    },
    {
      "cell_type": "markdown",
      "id": "xeb5xYyC9Zo0",
      "metadata": {
        "id": "xeb5xYyC9Zo0"
      },
      "source": [
        "<br>\n",
        "\n",
        "### **Interacting From *Inside* Our Jupyter Labs Microservice**\n",
        "\n",
        "From inside, a container can only interface with other containers via the exposed ports and the resources provided to them. To illustrate, note that this Jupyter Labs notebook doesn't even have Docker installed, much less have access to the host's Docker instance:"
      ]
    },
    {
      "cell_type": "code",
      "execution_count": null,
      "id": "e67c2a0c-1f14-4c1f-91b2-6f0978ae6a1f",
      "metadata": {
        "id": "e67c2a0c-1f14-4c1f-91b2-6f0978ae6a1f",
        "outputId": "16c9397f-b21f-498a-fd0f-7b9951b174c9"
      },
      "outputs": [
        {
          "name": "stdout",
          "output_type": "stream",
          "text": [
            "/usr/bin/sh: 1: docker: not found\n"
          ]
        }
      ],
      "source": [
        "## Should fail\n",
        "!docker ps -a"
      ]
    },
    {
      "cell_type": "markdown",
      "id": "b71c32c0-76a0-46ce-9d59-838212d7863e",
      "metadata": {
        "id": "b71c32c0-76a0-46ce-9d59-838212d7863e"
      },
      "source": [
        "<br>\n",
        "\n",
        "This is great in general for security purposes but might make it challenging to interact with other microservices. What exactly can we do from inside our container?\n",
        "\n",
        "From the host environment, we could provide a very small window into the outside world via something like the `docker_router` service. The exact code used to create the service is available in [`docker_router/docker_router.py`](docker_router/docker_router.py) and [`docker_router/Dockerfile`](docker_router/Dockerfile), which will readily imply that `help` may be one of the things you can query. Below is an example of a shell network query command which can be used to invoke the `help` routine:"
      ]
    },
    {
      "cell_type": "code",
      "execution_count": null,
      "id": "227cc8b4-a4bc-454b-83a6-8f2b8a7bf10c",
      "metadata": {
        "id": "227cc8b4-a4bc-454b-83a6-8f2b8a7bf10c",
        "outputId": "534402db-b029-4697-9fbd-b7c6fefc75ae"
      },
      "outputs": [
        {
          "name": "stdout",
          "output_type": "stream",
          "text": [
            "*   Trying 172.18.0.3:8070...\n",
            "* Connected to docker_router (172.18.0.3) port 8070 (#0)\n",
            "> GET /help HTTP/1.1\n",
            "> Host: docker_router:8070\n",
            "> User-Agent: curl/7.88.1\n",
            "> Accept: */*\n",
            "> \n",
            "< HTTP/1.1 200 OK\n",
            "< date: Sat, 10 Aug 2024 23:10:57 GMT\n",
            "< server: uvicorn\n",
            "< content-length: 95\n",
            "< content-type: application/json\n",
            "< \n",
            "* Connection #0 to host docker_router left intact\n",
            "{\"Options\":\"[/containers, /containers/{container_id}/logs, containers/{container_id}/restart]\"}"
          ]
        }
      ],
      "source": [
        "## Should fail in colab, will work in course environment\n",
        "!curl -v docker_router:8070/help"
      ]
    },
    {
      "cell_type": "markdown",
      "id": "a7304508-c0e5-47c6-8b7f-0c14dfbb0a55",
      "metadata": {
        "id": "a7304508-c0e5-47c6-8b7f-0c14dfbb0a55"
      },
      "source": [
        "<br>\n",
        "\n",
        "The `curl` interface shown above can be very useful in general but is a bit unoptimized for our Python environment. Luckily, Python's `requests` library gives a much easier set of utilities to work with, so we'll query the containers path hinted at above using a more Pythonic interface as follows:"
      ]
    },
    {
      "cell_type": "code",
      "execution_count": null,
      "id": "f621869f-68b5-4e09-abaa-132a17b907a8",
      "metadata": {
        "id": "f621869f-68b5-4e09-abaa-132a17b907a8",
        "outputId": "ceeb29b0-be82-412d-88c0-7cdd520a8458"
      },
      "outputs": [
        {
          "name": "stdout",
          "output_type": "stream",
          "text": [
            "*   Trying 172.18.0.3:8070...\n",
            "* Connected to docker_router (172.18.0.3) port 8070 (#0)\n",
            "> GET /containers HTTP/1.1\n",
            "> Host: docker_router:8070\n",
            "> User-Agent: curl/7.88.1\n",
            "> Accept: */*\n",
            "> \n",
            "< HTTP/1.1 200 OK\n",
            "< date: Sat, 10 Aug 2024 23:11:00 GMT\n",
            "< server: uvicorn\n",
            "< content-length: 1068\n",
            "< content-type: application/json\n",
            "< \n",
            "[{\"id\":\"45ae678a599d983d436ae48bbac47c3538b5983bd815686b6a64f8f34c35c37d\",\"name\":\"modifier\",\"status\":\"exited\"},{\"id\":\"97b32a3f145da9e4b688fc35ecf27d4c79bfea3e8f06720d3d784b5a69bf6b59\",\"name\":\"frontend_rproxy\",\"status\":\"running\"},{\"id\":\"9b93231dc276757068545739c9eec9ab5efc821cc566075976b3640b5659e25b\",\"name\":\"frontend\",\"status\":\"running\"},{\"id\":\"6afbae0c81b12785906ca056c1bb51c22ae64a6aca2c9627b7052e14c6ad5c35\",\"name\":\"c-fx-15-v1-task3_nginx_1\",\"status\":\"running\"},{\"id\":\"2353a79d7761dc70337b96dfaf20b0dff234e561327296177430795269295bba\",\"name\":\"jupyter-notebook-server\",\"status\":\"running\"},{\"id\":\"1b4fbcfb08192f024fdd23096e710b62db0be15a456423536db5506f05afb457\",\"name\":\"c-fx-15-v1-task3_assessment_1\",\"status\":\"running\"},{\"id\":\"ea31d057d312cf322a83b8c444c0fa8a7c89ad26162437583520174909f9bcd1\",\"name\":\"docker_router\",\"status\":\"running\"},{\"id\":\"4a2c2cbe5225f570cf26255b69ea0755e95f156b456a282d04eb6330836b69ba\",\"name\":\"llm_client\",\"status\":\"running\"},{\"id\":\"e8955488b62a41cdf17ca260fb2977f98567db39c054031d36bfbdc8267795e* Connection #0 to host docker_router left intact\n",
            "1\",\"name\":\"dli-logserv\",\"status\":\"running\"}]frontend_rproxy\n",
            "frontend\n",
            "c-fx-15-v1-task3_nginx_1\n",
            "jupyter-notebook-server\n",
            "c-fx-15-v1-task3_assessment_1\n",
            "docker_router\n",
            "llm_client\n",
            "dli-logserv\n"
          ]
        }
      ],
      "source": [
        "## Should fail in colab, will work in course environment\n",
        "import requests\n",
        "\n",
        "## Curl request. Best for shell environments\n",
        "!curl -v docker_router:8070/containers\n",
        "\n",
        "## Print all running containers\n",
        "requests.get(\"http://docker_router:8070/containers\").json()\n",
        "\n",
        "## Print the running microservices\n",
        "for entry in requests.get(\"http://docker_router:8070/containers\").json():\n",
        "    if entry.get(\"status\") == 'running':\n",
        "        print(entry.get(\"name\"))"
      ]
    },
    {
      "cell_type": "markdown",
      "id": "2b13ef3c-08d3-4594-8643-e3fb972a224e",
      "metadata": {
        "id": "2b13ef3c-08d3-4594-8643-e3fb972a224e"
      },
      "source": [
        "<br>\n",
        "\n",
        "From this, we can at least know what other microservices are running and can consider what their purposes might be:\n",
        "- **docker_router**: The service we're interacting with to find this info.\n",
        "- **jupyter-notebook-server**: The service we discussed that is running this Jupyter session.\n",
        "- **frontend**: Probably some kind of web interface...\n",
        "- **llm_client**: Probably some kind of llm server?\n",
        "- **s-fx-<...>**: Some background services (data loader, proxy service, assessment manager), which will not be discussed."
      ]
    },
    {
      "cell_type": "markdown",
      "id": "a1766852-8dff-4d85-bdf0-a3bf74f9136a",
      "metadata": {
        "id": "a1766852-8dff-4d85-bdf0-a3bf74f9136a"
      },
      "source": [
        "<!-- <img src=\"imgs/environment.png\" width=800/> -->\n",
        "> <img src=\"http://dli-lms.s3.amazonaws.com/assets/s-fx-15-v1/imgs/environment.png\" width=800px/>"
      ]
    },
    {
      "cell_type": "markdown",
      "id": "qmzY5HQUpuLM",
      "metadata": {
        "id": "qmzY5HQUpuLM"
      },
      "source": [
        "\n",
        "Aside from the last few components, all of the details regarding these components can once again be found in the [`composer`](composer) directory."
      ]
    },
    {
      "cell_type": "markdown",
      "id": "05bc6b5d-e055-4b0b-86d4-0003f73a615d",
      "metadata": {
        "id": "05bc6b5d-e055-4b0b-86d4-0003f73a615d"
      },
      "source": [
        "----\n",
        "\n",
        "<br>\n",
        "\n",
        "## **Part 4:** Checking Our Frontend\n",
        "\n",
        "Moreso than anything, this notebook is here to open the environment up for exploration and give some potential directions to look over if the microservice construction details are of interest. Since you might interact with some of these microservices throughout the course, knowing how they were made will hopefully prove quite useful!\n",
        "\n",
        "While we're at it, why don't we consider the main other microservice we'll need to interact with: **the frontend**. This microservice will host a webpage that you will need to interface with for the final assessment. Please run the following curl command to confirm that your frontend service is up and running!"
      ]
    },
    {
      "cell_type": "code",
      "execution_count": null,
      "id": "5609e1fd-5648-491d-af82-b678d2702bad",
      "metadata": {
        "id": "5609e1fd-5648-491d-af82-b678d2702bad",
        "outputId": "fda6b42c-6cc0-4e2e-c175-e9b8520aef3f"
      },
      "outputs": [
        {
          "name": "stdout",
          "output_type": "stream",
          "text": [
            "*   Trying 172.18.0.7:8090...\n",
            "* Connected to frontend (172.18.0.7) port 8090 (#0)\n",
            "> GET / HTTP/1.1\n",
            "> Host: frontend:8090\n",
            "> User-Agent: curl/7.88.1\n",
            "> Accept: */*\n",
            "> \n",
            "< HTTP/1.1 200 OK\n",
            "< date: Sat, 10 Aug 2024 23:11:41 GMT\n",
            "< server: uvicorn\n",
            "< content-length: 8523\n",
            "< content-type: text/html; charset=utf-8\n",
            "< \n",
            "<!doctype html>\n",
            "<html\n",
            "\tlang=\"en\"\n",
            "\tstyle=\"\n",
            "\t\tmargin: 0;\n",
            "\t\tpadding: 0;\n",
            "\t\tmin-height: 100%;\n",
            "\t\tdisplay: flex;\n",
            "\t\tflex-direction: column;\n",
            "\t\"\n",
            ">\n",
            "\t<head>\n",
            "\t\t<meta charset=\"utf-8\" />\n",
            "\t\t<meta\n",
            "\t\t\tname=\"viewport\"\n",
            "\t\t\tcontent=\"width=device-width, initial-scale=1, shrink-to-fit=no\"\n",
            "\t\t/>\n",
            "\n",
            "\t\t<style>\n",
            "\t\t\t:root {\n",
            "\t\t\t\t--bg: white;\n",
            "\t\t\t\t--col:   #1f2937;\n",
            "\t\t\t\t--bg-dark: #0b0f19;\n",
            "\t\t\t\t--col-dark: #f3f4f6;\n",
            "\t\t\t}\n",
            "\n",
            "\n",
            "\t\t\tbody {\n",
            "\t\t\t\tbackground: var(--bg);\n",
            "\t\t\t\tcolor: var(--col);\n",
            "\t\t\t\tfont-family: Arial, Helvetica, sans-serif;\n",
            "\t\t\t}\n",
            "\n",
            "\t\t\t@media (prefers-color-scheme: dark) {\n",
            "\t\t\t\tbody {\n",
            "\t\t\t\t\tbackground: var(--bg-dark);\n",
            "\t\t\t\t\tcolor: var(--col-dark);\n",
            "\t\t\t\t}\n",
            "\t\t\t}\n",
            "\t\t</style>\n",
            "\n",
            "\t\t<meta property=\"og:url\" content=\"https://gradio.app/\" />\n",
            "\t\t<meta property=\"og:type\" content=\"website\" />\n",
            "\t\t<meta property=\"og:image\" content=\"\" />\n",
            "\t\t<meta property=\"og:title\" content=\"Gradio\" />\n",
            "\t\t<meta\n",
            "\t\t\tproperty=\"og:description\"\n",
            "\t\t\tcontent=\"\"\n",
            "\t\t/>\n",
            "\t\t<meta name=\"twitter:card\" content=\"summary_large_image\" />\n",
            "\t\t<meta name=\"twitter:creator\" content=\"@teamGradio\" />\n",
            "\t\t<meta name=\"twitter:title\" content=\"Gradio\" />\n",
            "\t\t<meta\n",
            "\t\t\tname=\"twitter:description\"\n",
            "\t\t\tcontent=\"\"\n",
            "\t\t/>\n",
            "\t\t<meta name=\"twitter:image\" content=\"\" />\n",
            "\n",
            "\t\t<script data-gradio-mode>\n",
            "\t\t\twindow.__gradio_mode__ = \"app\";\n",
            "\t\t\twindow.iFrameResizer = {\n",
            "\t\t\t\theightCalculationMethod: \"taggedElement\"\n",
            "\t\t\t};\n",
            "\t\t\twindow.parent?.postMessage(\n",
            "\t\t\t\t{ type: \"SET_SCROLLING\", enabled: false },\n",
            "\t\t\t\t\"*\"\n",
            "\t\t\t);\n",
            "\t\t</script>\n",
            "\n",
            "\t\t<script>window.gradio_config = {\"version\":\"4.31.4\",\"mode\":\"blocks\",\"app_id\":9055756036669747549,\"dev_mode\":false,\"analytics_enabled\":true,\"components\":[{\"id\":1,\"type\":\"chatbot\",\"props\":{\"likeable\":false,\"value\":[],\"show_label\":true,\"container\":true,\"min_width\":160,\"visible\":true,\"elem_id\":\"chatbot\",\"elem_classes\":[],\"latex_delimiters\":[{\"left\":\"$$\",\"right\":\"$$\",\"display\":true}],\"rtl\":false,\"show_share_button\":false,\"show_copy_button\":false,\"avatar_images\":[null,{\"path\":\"/tmp/gradio/4f1047f3126b4c0a3ed338fe09ca3615a4c2a19a/parrot.png\",\"url\":\"http://frontend:8090/file=/tmp/gradio/4f1047f3126b4c0a3ed338fe09ca3615a4c2a19a/parrot.png\",\"size\":null,\"orig_name\":null,\"mime_type\":null,\"is_stream\":false,\"meta\":{\"_type\":\"gradio.FileData\"}}],\"sanitize_html\":true,\"render_markdown\":true,\"bubble_full_width\":false,\"line_breaks\":true,\"name\":\"chatbot\",\"_selectable\":false},\"skip_api\":false,\"component_class_id\":\"28d80b96cf5cf640847b5ab20444081e\",\"key\":null,\"api_info\":{\"$defs\":{\"FileData\":{\"properties\":{\"path\":{\"title\":\"Path\",\"type\":\"string\"},\"url\":{\"anyOf\":[{\"type\":\"string\"},{\"type\":\"null\"}],\"default\":null,\"title\":\"Url\"},\"size\":{\"anyOf\":[{\"type\":\"integer\"},{\"type\":\"null\"}],\"default\":null,\"title\":\"Size\"},\"orig_name\":{\"anyOf\":[{\"type\":\"string\"},{\"type\":\"null\"}],\"default\":null,\"title\":\"Orig Name\"},\"mime_type\":{\"anyOf\":[{\"type\":\"string\"},{\"type\":\"null\"}],\"default\":null,\"title\":\"Mime Type\"},\"is_stream\":{\"default\":false,\"title\":\"Is Stream\",\"type\":\"boolean\"},\"meta\":{\"default\":{\"_type\":\"gradio.FileData\"},\"title\":\"Meta\",\"type\":\"object\"}},\"required\":[\"path\"],\"title\":\"FileData\",\"type\":\"object\"},\"FileMessage\":{\"properties\":{\"file\":{\"$ref\":\"#/$defs/FileData\"},\"alt_text\":{\"anyOf\":[{\"type\":\"string\"},{\"type\":\"null\"}],\"default\":null,\"title\":\"Alt Text\"}},\"required\":[\"file\"],\"title\":\"FileMessage\",\"type\":\"object\"}},\"items\":{\"maxItems\":2,\"minItems\":2,\"prefixItems\":[{\"anyOf\":[{\"type\":\"string\"},{\"$ref\":\"#/$defs/FileMessage\"},{\"type\":\"null\"}]},{\"anyOf\":[{\"type\":\"string\"},{\"$ref\":\"#/$defs/FileMessage\"},{\"type\":\"null\"}]}],\"type\":\"array\"},\"title\":\"ChatbotData\",\"type\":\"array\"},\"example_inputs\":[[\"Hello!\",null]]},{\"id\":2,\"type\":\"row\",\"props\":{\"variant\":\"default\",\"visible\":true,\"equal_height\":true,\"name\":\"row\"},\"skip_api\":true,\"component_class_id\":\"3567c729f5ff0a8d3c753e61fd372128\",\"key\":null},{\"id\":3,\"type\":\"textbox\",\"props\":{\"lines\":1,\"max_lines\":20,\"placeholder\":\"Enter text and press enter, or upload an image\",\"show_label\":false,\"container\":false,\"scale\":4,\"min_width\":160,\"visible\":true,\"autofocus\":false,\"autoscroll\":true,\"elem_classes\":[],\"type\":\"text\",\"rtl\":false,\"show_copy_button\":false,\"name\":\"textbox\",\"_selectable\":false},\"skip_api\":false,\"component_class_id\":\"7e81e8f6243dcfcd3c5ebd9353f4a449\",\"key\":null,\"api_info\":{\"type\":\"string\"},\"example_inputs\":\"Hello!!\"},{\"id\":4,\"type\":\"radio\",\"props\":{\"choices\":[[\"Basic\",\"Basic\"],[\"RAG\",\"RAG\"]],\"value\":\"Basic\",\"type\":\"value\",\"label\":\"Main Route\",\"show_label\":true,\"container\":true,\"min_width\":160,\"visible\":true,\"elem_classes\":[],\"name\":\"radio\",\"_selectable\":false},\"skip_api\":false,\"component_class_id\":\"13cd178cc9a32b83195ac30e791179ea\",\"key\":null,\"api_info\":{\"enum\":[\"Basic\",\"RAG\"],\"title\":\"Radio\",\"type\":\"string\"},\"example_inputs\":\"Basic\"},{\"id\":5,\"type\":\"button\",\"props\":{\"value\":\"🎓\\nEvaluate\",\"variant\":\"secondary\",\"visible\":true,\"interactive\":true,\"elem_classes\":[],\"name\":\"button\",\"_selectable\":false},\"skip_api\":true,\"component_class_id\":\"41552bb7a3f573d8cd912b6d7ca94270\",\"key\":null},{\"id\":6,\"type\":\"form\",\"props\":{\"scale\":1,\"min_width\":160,\"name\":\"form\"},\"skip_api\":true,\"component_class_id\":\"3367d5f96747e6082d0c716ac960e59c\",\"key\":null}],\"css\":\"\\n.contain { display: flex; flex-direction: column; height:80vh;}\\n#component-0 { height: 100%; }\\n#chatbot { flex-grow: 1; overflow: auto;}\\n\",\"connect_heartbeat\":false,\"js\":null,\"head\":null,\"title\":\"Gradio\",\"space_id\":null,\"enable_queue\":true,\"show_error\":true,\"show_api\":true,\"is_colab\":false,\"max_file_size\":null,\"stylesheets\":[\"https://fonts.googleapis.com/css2?family=Source+Sans+Pro:wght@400;600\\u0026display=swap\",\"https://fonts.googleapis.com/css2?family=IBM+Plex+Mono:wght@400;600\\u0026display=swap\"],\"theme\":\"default\",\"protocol\":\"sse_v3\",\"body_css\":{\"body_background_fill\":\"white\",\"body_text_color\":\"#1f2937\",\"body_background_fill_dark\":\"#0b0f19\",\"body_text_color_dark\":\"#f3f4f6\"},\"fill_height\":false,\"layout\":{\"id\":0,\"children\":[{\"id\":1},{\"id\":2,\"children\":[{\"id\":3},{\"id\":6,\"children\":[{\"id\":4}]},{\"id\":5}]}]},\"dependencies\":[{\"targets\":[[3,\"submit\"]],\"inputs\":[1,3],\"outputs\":[1,3],\"backend_fn\":true,\"js\":null,\"queue\":false,\"api_name\":\"add_text\",\"scroll_to_output\":false,\"show_progress\":\"full\",\"every\":null,\"batch\":false,\"max_batch_size\":4,\"cancels\":[],\"types\":{\"continuous\":false,\"generator\":false},\"collects_event_data\":false,\"trigger_after\":null,\"trigger_only_on_success\":false,\"trigger_mode\":\"once\",\"show_api\":true,\"zerogpu\":false},{\"targets\":[[null,\"then\"]],\"inputs\":[1,4],\"outputs\":[1],\"backend_fn\":true,\"js\":null,\"queue\":null,\"api_name\":\"bot\",\"scroll_to_output\":false,\"show_progress\":\"full\",\"every\":null,\"batch\":false,\"max_batch_size\":4,\"cancels\":[],\"types\":{\"continuous\":false,\"generator\":true},\"collects_event_data\":false,\"trigger_after\":0,\"trigger_only_on_success\":false,\"trigger_mode\":\"once\",\"show_api\":true,\"zerogpu\":false},{\"targets\":[[null,\"then\"]],\"inputs\":[],\"outputs\":[3],\"backend_fn\":true,\"js\":null,\"queue\":false,\"api_name\":\"lambda\",\"scroll_to_output\":false,\"show_progress\":\"full\",\"every\":null,\"batch\":false,\"max_batch_size\":4,\"cancels\":[],\"types\":{\"continuous\":false,\"generator\":false},\"collects_event_data\":false,\"trigger_after\":1,\"trigger_only_on_success\":false,\"trigger_mode\":\"once\",\"show_api\":true,\"zerogpu\":false},{\"targets\":[[5,\"click\"]],\"inputs\":[1,4],\"outputs\":[1],\"backend_fn\":true,\"js\":null,\"queue\":null,\"api_name\":\"rag_eval\",\"scroll_to_output\":false,\"show_progress\":\"full\",\"every\":null,\"batch\":false,\"max_batch_size\":4,\"cancels\":[],\"types\":{\"continuous\":false,\"generator\":true},\"collects_event_data\":false,\"trigger_after\":null,\"trigger_only_on_success\":false,\"trigger_mode\":\"once\",\"show_api\":true,\"zerogpu\":false}],\"root\":\"http://frontend:8090\"};</script>\n",
            "\n",
            "\t\t<link rel=\"preconnect\" href=\"https://fonts.googleapis.com\" />\n",
            "\t\t<link\n",
            "\t\t\trel=\"preconnect\"\n",
            "\t\t\thref=\"https://fonts.gstatic.com\"\n",
            "\t\t\tcrossorigin=\"anonymous\"\n",
            "\t\t/>\n",
            "\t\t<script\n",
            "\t\t\tsrc=\"https://cdnjs.cloudflare.com/ajax/libs/iframe-resizer/4.3.11/iframeResizer.contentWindow.min.js\"\n",
            "\t\t\tasync\n",
            "\t\t></script>\n",
            "\t\t<script type=\"module\" crossorigin src=\"./assets/index-Dp5KDKrI.js\"></script>\n",
            "\t\t<link rel=\"stylesheet\" crossorigin href=\"./assets/index-a6iaZEgO.css\">\n",
            "\t</head>\n",
            "\n",
            "\t<body\n",
            "\t\tstyle=\"\n",
            "\t\t\twidth: 100%;\n",
            "\t\t\tmargin: 0;\n",
            "\t\t\tpadding: 0;\n",
            "\t\t\tdisplay: flex;\n",
            "\t\t\tflex-direction: column;\n",
            "\t\t\tflex-grow: 1;\n",
            "\t\t\"\n",
            "\t>\n",
            "\t\t<gradio-app\n",
            "\t\t\tcontrol_page_title=\"true\"\n",
            "\t\t\tembed=\"false\"\n",
            "\t\t\teager=\"true\"\n",
            "\t\t\tstyle=\"display: flex; flex-direction: column; flex-grow: 1\"\n",
            "\t\t>\n",
            "\t\t</gradio-app>\n",
            "\t\t<script>\n",
            "\t\t\tconst ce = document.getElementsByTagName(\"gradio-app\");\n",
            "\n",
            "\t\t\tif (ce[0]) {\n",
            "\t\t\t\tce[0].addEventListener(\"domchange\", () => {\n",
            "\t\t\t\t\tdocument.body.style.padding = \"0\";\n",
            "\t\t\t\t});\n",
            "\t\t\t\tdocument.body.style.padding = \"0\";\n",
            "\t\t\t}\n",
            "\t\t</script>\n",
            "\t</body>\n",
            "* Connection #0 to host frontend left intact\n",
            "</html>"
          ]
        }
      ],
      "source": [
        "## Commented out by default since it will yield a lot of output\n",
        "!curl -v frontend:8090"
      ]
    },
    {
      "cell_type": "markdown",
      "id": "247e4f79-6d12-491a-bb4b-cf260a53e14a",
      "metadata": {
        "id": "247e4f79-6d12-491a-bb4b-cf260a53e14a"
      },
      "source": [
        "The command should return a `200 OK` response along with a webpage (i.e., a response that starts with `<!doctype html>`), which acts as a useful health check but isn't user-friendly. To access the webpage:\n",
        "\n",
        "- **Raw Port Access (Default)**, you would change your URL to use the non-default port `8090` by entering `http://<...>.courses.nvidia.com:8090` in your browser. While this method works, it results in a barebones interface with some limitations, such as port protection mechanisms that might block access, reduced functionality due to incomplete integration with the default server settings, and potential security risks from exposing raw ports to users.\n",
        "- **Reverse-Proxy Access**, a different port is reverse-proxied and mapped to `http://<...>.courses.nvidia.com/8090` (where we will use `8091` since the application code has to change) . Reverse-proxying is beneficial because it hides the raw port from users, enhancing security by reducing direct exposure of backend services. It simplifies the URL structure, making it easier for users to access services without remembering specific port numbers. Additionally, reverse-proxying enables better load balancing and easier management of SSL certificates, providing a more seamless and secure user experience. Details out of scope for course, but feel free to check out [**`composer/nginx.conf`**](composer/nginx.conf) and [**`frontend/frontend_server_rproxy.py`**](frontend/frontend_server_rproxy.py).\n",
        "\n",
        "**You can run the cell below to generate a link:**"
      ]
    },
    {
      "cell_type": "code",
      "execution_count": null,
      "id": "51ffc2aa-7973-411b-9211-c07af4638771",
      "metadata": {
        "id": "51ffc2aa-7973-411b-9211-c07af4638771"
      },
      "outputs": [],
      "source": [
        "%%js\n",
        "var url = 'http://'+window.location.host+':8090';\n",
        "element.innerHTML = '<a style=\"color:green;\" target=\"_blank\" href='+url+'><h1>< Link To Gradio Frontend ></h1></a>';"
      ]
    }
  ],
  "metadata": {
    "colab": {
      "provenance": []
    },
    "kernelspec": {
      "display_name": "Python 3 (ipykernel)",
      "language": "python",
      "name": "python3"
    },
    "language_info": {
      "codemirror_mode": {
        "name": "ipython",
        "version": 3
      },
      "file_extension": ".py",
      "mimetype": "text/x-python",
      "name": "python",
      "nbconvert_exporter": "python",
      "pygments_lexer": "ipython3",
      "version": "3.11.9"
    }
  },
  "nbformat": 4,
  "nbformat_minor": 5
}